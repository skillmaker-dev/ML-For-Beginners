{
 "cells": [
  {
   "cell_type": "code",
   "execution_count": 3,
   "metadata": {},
   "outputs": [
    {
     "data": {
      "text/plain": [
       "WordList(['quick red fox', 'lazy brown dog'])"
      ]
     },
     "execution_count": 3,
     "metadata": {},
     "output_type": "execute_result"
    }
   ],
   "source": [
    "from textblob import TextBlob\n",
    "from textblob.np_extractors import ConllExtractor\n",
    "# import and create a Conll extractor to use later \n",
    "extractor = ConllExtractor()\n",
    "\n",
    "# later when you need a noun phrase extractor:\n",
    "user_input = input(\"> \")\n",
    "user_input_blob = TextBlob(user_input, np_extractor=extractor)  # note non-default extractor specified\n",
    "np = user_input_blob.noun_phrases \n",
    "np"
   ]
  },
  {
   "cell_type": "code",
   "execution_count": 4,
   "metadata": {},
   "outputs": [
    {
     "name": "stdout",
     "output_type": "stream",
     "text": [
      "Hello, I am Marvin, the friendly robot.\n",
      "You can end this conversation at any time by typing 'bye'\n",
      "After typing each answer, press 'enter'\n",
      "How are you today?\n",
      "Well, that sounds positive. Can you tell me more about quick red foxes?\n",
      "Well, that sounds positive. Can you tell me more?\n",
      "It was nice talking to you, goodbye!\n"
     ]
    }
   ],
   "source": [
    "import random\n",
    "from textblob import TextBlob\n",
    "from textblob.np_extractors import ConllExtractor\n",
    "extractor = ConllExtractor()\n",
    "\n",
    "def main():   \n",
    "    print(\"Hello, I am Marvin, the friendly robot.\")\n",
    "    print(\"You can end this conversation at any time by typing 'bye'\")    \n",
    "    print(\"After typing each answer, press 'enter'\")\n",
    "    print(\"How are you today?\")\n",
    "\n",
    "    while True:\n",
    "        # wait for the user to enter some text\n",
    "        user_input = input(\"> \")\n",
    "\n",
    "        if user_input.lower() == \"bye\":            \n",
    "            # if they typed in 'bye' (or even BYE, ByE, byE etc.), break out of the loop\n",
    "            break\n",
    "        else:\n",
    "            # Create a TextBlob based on the user input. Then extract the noun phrases\n",
    "            user_input_blob = TextBlob(user_input, np_extractor=extractor)                        \n",
    "            np = user_input_blob.noun_phrases                                    \n",
    "            response = \"\"\n",
    "            if user_input_blob.polarity <= -0.5:\n",
    "                response = \"Oh dear, that sounds bad. \"\n",
    "            elif user_input_blob.polarity <= 0:\n",
    "                response = \"Hmm, that's not great. \"\n",
    "            elif user_input_blob.polarity <= 0.5:\n",
    "                response = \"Well, that sounds positive. \"\n",
    "            elif user_input_blob.polarity <= 1:\n",
    "                response = \"Wow, that sounds great. \"\n",
    "\n",
    "            if len(np) != 0:\n",
    "                # There was at least one noun phrase detected, so ask about that and pluralise it\n",
    "                # e.g. cat -> cats or mouse -> mice\n",
    "                response = response + \"Can you tell me more about \" + np[0].pluralize() + \"?\"\n",
    "            else:\n",
    "                response = response + \"Can you tell me more?\"\n",
    "            print(response)\n",
    "    \n",
    "    print(\"It was nice talking to you, goodbye!\")\n",
    "\n",
    "# Start the program\n",
    "main()"
   ]
  }
 ],
 "metadata": {
  "kernelspec": {
   "display_name": "Python 3",
   "language": "python",
   "name": "python3"
  },
  "language_info": {
   "codemirror_mode": {
    "name": "ipython",
    "version": 3
   },
   "file_extension": ".py",
   "mimetype": "text/x-python",
   "name": "python",
   "nbconvert_exporter": "python",
   "pygments_lexer": "ipython3",
   "version": "3.11.6"
  },
  "orig_nbformat": 4
 },
 "nbformat": 4,
 "nbformat_minor": 2
}
